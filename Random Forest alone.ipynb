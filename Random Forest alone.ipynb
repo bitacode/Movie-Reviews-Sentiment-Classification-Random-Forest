{
 "cells": [
  {
   "cell_type": "markdown",
   "id": "bf060ca0-0417-4117-a8e1-2639e295c8ad",
   "metadata": {},
   "source": [
    "**<h1>IMPORT LIBRARIES</h1>**"
   ]
  },
  {
   "cell_type": "code",
   "execution_count": 25,
   "id": "b2609b58-693d-4aa9-873c-c12203bc396b",
   "metadata": {},
   "outputs": [],
   "source": [
    "import re\n",
    "import os\n",
    "import pickle\n",
    "import numpy as np\n",
    "import pandas as pd\n",
    "import tensorflow as tf\n",
    "import seaborn as sns\n",
    "import matplotlib.pyplot as plt\n",
    "from joblib import dump, load\n",
    "from sklearn.model_selection import train_test_split\n",
    "from sklearn.ensemble import RandomForestClassifier\n",
    "from sklearn.metrics import accuracy_score, confusion_matrix, classification_report\n",
    "from transformers import BertTokenizer, TFBertModel"
   ]
  },
  {
   "cell_type": "markdown",
   "id": "26d9f2f1-bd65-463c-8133-61ebab1b9d7b",
   "metadata": {},
   "source": [
    "**<h1>READ DATASET</h1>**"
   ]
  },
  {
   "cell_type": "code",
   "execution_count": null,
   "id": "64bd8144-9a57-494d-bf92-5402c8eea89a",
   "metadata": {},
   "outputs": [],
   "source": [
    "data = pd.read_csv('./resetted_index_cleaned_polarity_roberta.csv', index_col=0)\n",
    "data"
   ]
  },
  {
   "cell_type": "code",
   "execution_count": null,
   "id": "d572b171-f8fb-4a79-9543-867b014d9b74",
   "metadata": {},
   "outputs": [],
   "source": [
    "pos = data[data['sentiment'] == 'positive'].head(312564)\n",
    "neu = data[data['sentiment'] == 'neutral'].head(312564)\n",
    "neg = data[data['sentiment'] == 'negative'].head(312564)\n",
    "df = pd.concat([pos, neu, neg], ignore_index=True)"
   ]
  },
  {
   "cell_type": "code",
   "execution_count": null,
   "id": "e688125f-b2d5-4e37-9f7f-330e71aaf70a",
   "metadata": {},
   "outputs": [],
   "source": [
    "df['sentiment'] = df['sentiment'].replace({'positive': 0, 'negative': 1, 'neutral': 2})\n",
    "df.head()"
   ]
  },
  {
   "cell_type": "code",
   "execution_count": null,
   "id": "e92c6123-9c00-4707-9ff1-dd2303d59e70",
   "metadata": {},
   "outputs": [],
   "source": [
    "texts = df['cleaned_review'].tolist()\n",
    "for index, value in enumerate(texts):\n",
    "    if isinstance(value, float):\n",
    "        texts[index] = str(value)"
   ]
  },
  {
   "cell_type": "code",
   "execution_count": null,
   "id": "d257cd4a-1724-48b2-8703-65f0c111f661",
   "metadata": {},
   "outputs": [],
   "source": [
    "labels = to_categorical(df['sentiment'])\n",
    "labels = np.array(labels)"
   ]
  },
  {
   "cell_type": "markdown",
   "id": "2f21c5cb-0fbf-4127-a998-4aaf76b65d96",
   "metadata": {},
   "source": [
    "**<h1>TOKENIZATION</h1>**"
   ]
  },
  {
   "cell_type": "code",
   "execution_count": 2,
   "id": "fcc8b0bb-5685-4105-b4ef-e9f24dd2005b",
   "metadata": {},
   "outputs": [
    {
     "name": "stderr",
     "output_type": "stream",
     "text": [
      "Some weights of the PyTorch model were not used when initializing the TF 2.0 model TFBertModel: ['cls.seq_relationship.weight', 'cls.predictions.bias', 'cls.predictions.transform.LayerNorm.bias', 'cls.seq_relationship.bias', 'cls.predictions.transform.LayerNorm.weight', 'cls.predictions.transform.dense.bias', 'cls.predictions.transform.dense.weight']\n",
      "- This IS expected if you are initializing TFBertModel from a PyTorch model trained on another task or with another architecture (e.g. initializing a TFBertForSequenceClassification model from a BertForPreTraining model).\n",
      "- This IS NOT expected if you are initializing TFBertModel from a PyTorch model that you expect to be exactly identical (e.g. initializing a TFBertForSequenceClassification model from a BertForSequenceClassification model).\n",
      "All the weights of TFBertModel were initialized from the PyTorch model.\n",
      "If your task is similar to the task the model of the checkpoint was trained on, you can already use TFBertModel for predictions without further training.\n"
     ]
    }
   ],
   "source": [
    "model_name = 'bert-base-uncased'\n",
    "tokenizer = BertTokenizer.from_pretrained(model_name)\n",
    "model = TFBertModel.from_pretrained('bert-base-uncased')"
   ]
  },
  {
   "cell_type": "code",
   "execution_count": 3,
   "id": "3db566c9-48e0-4016-b265-76b10d0d1bf3",
   "metadata": {},
   "outputs": [],
   "source": [
    "shape = 96\n",
    "batch_size = 64"
   ]
  },
  {
   "cell_type": "code",
   "execution_count": null,
   "id": "0ea3cea5-b18a-4de4-9054-02c90ae10801",
   "metadata": {},
   "outputs": [],
   "source": [
    "train_encodings = tokenizer(X_train, padding='max_length', truncation=True, max_length=shape, return_tensors='tf')"
   ]
  },
  {
   "cell_type": "code",
   "execution_count": null,
   "id": "a198ac41-3673-479a-8157-a01e4f6352ef",
   "metadata": {},
   "outputs": [],
   "source": [
    "test_encodings = tokenizer(X_test, padding='max_length', truncation=True, max_length=shape, return_tensors='tf')"
   ]
  },
  {
   "cell_type": "markdown",
   "id": "e2deb342-e6e1-4938-9c70-a4188ed7618c",
   "metadata": {},
   "source": [
    "## **LOAD TOKENIZATION**"
   ]
  },
  {
   "cell_type": "code",
   "execution_count": 4,
   "id": "a2736cf0-8f7c-45fb-b887-2cf3d6528769",
   "metadata": {},
   "outputs": [],
   "source": [
    "save_path_train = './fix/train_encodings'\n",
    "save_path_test = './fix/test_encodings'\n",
    "save_path_y_train = './fix/y_train/y_train.tfrecord'\n",
    "save_path_y_test = './fix/y_test/y_test.tfrecord'"
   ]
  },
  {
   "cell_type": "code",
   "execution_count": 5,
   "id": "384a2767-f76a-4f02-a88f-215640f73158",
   "metadata": {},
   "outputs": [],
   "source": [
    "serialized_tensor_train = tf.io.read_file(save_path_y_train)\n",
    "serialized_tensor_test = tf.io.read_file(save_path_y_test)"
   ]
  },
  {
   "cell_type": "code",
   "execution_count": 6,
   "id": "ff467342-b8e3-4317-a64c-912366599e57",
   "metadata": {},
   "outputs": [],
   "source": [
    "loaded_tensor_train = tf.io.parse_tensor(serialized_tensor_train, out_type=tf.float32)\n",
    "loaded_tensor_test = tf.io.parse_tensor(serialized_tensor_test, out_type=tf.float32)"
   ]
  },
  {
   "cell_type": "code",
   "execution_count": 7,
   "id": "3e4e9ddb-ae1b-436f-9931-ebcac9961968",
   "metadata": {},
   "outputs": [],
   "source": [
    "loaded_y_train = loaded_tensor_train.numpy()\n",
    "loaded_y_test = loaded_tensor_test.numpy()"
   ]
  },
  {
   "cell_type": "code",
   "execution_count": 8,
   "id": "a17b3dbb-bf24-4918-9d48-6a2822bd5a8f",
   "metadata": {},
   "outputs": [],
   "source": [
    "loaded_train_encodings = {}\n",
    "for key in ['input_ids', 'attention_mask', 'token_type_ids']:\n",
    "    tensor = tf.io.read_file(f\"{save_path_train}/{key}.tfrecord\")\n",
    "    loaded_train_encodings[key] = tf.io.parse_tensor(tensor, out_type=tf.int32)"
   ]
  },
  {
   "cell_type": "code",
   "execution_count": 9,
   "id": "e39a55d9-484d-46a8-9e32-5bf6ad4a36ac",
   "metadata": {},
   "outputs": [],
   "source": [
    "loaded_test_encodings = {}\n",
    "for key in ['input_ids', 'attention_mask', 'token_type_ids']:\n",
    "    tensor = tf.io.read_file(f\"{save_path_test}/{key}.tfrecord\")\n",
    "    loaded_test_encodings[key] = tf.io.parse_tensor(tensor, out_type=tf.int32)"
   ]
  },
  {
   "cell_type": "markdown",
   "id": "6221d6a6-4bab-4260-8242-d131fe39e523",
   "metadata": {},
   "source": [
    "**<h1>CONVERT TO TENSORFLOW DATASET</h1>**"
   ]
  },
  {
   "cell_type": "code",
   "execution_count": 10,
   "id": "1103489c-3397-4516-9624-1c3c8a8fd3b1",
   "metadata": {},
   "outputs": [],
   "source": [
    "def create_tf_dataset(encodings, labels):\n",
    "    return tf.data.Dataset.from_tensor_slices((\n",
    "        {\n",
    "            'input_ids': encodings['input_ids'],\n",
    "            'attention_mask': encodings['attention_mask'],\n",
    "            'token_type_ids': encodings['token_type_ids']\n",
    "        },\n",
    "        tf.constant(labels)\n",
    "    )).batch(batch_size, drop_remainder=True)"
   ]
  },
  {
   "cell_type": "code",
   "execution_count": 11,
   "id": "31e888d0-edc4-46d9-8de3-718caa228e14",
   "metadata": {},
   "outputs": [],
   "source": [
    "train_tf_dataset = create_tf_dataset(loaded_train_encodings, loaded_y_train)\n",
    "test_tf_dataset = create_tf_dataset(loaded_test_encodings, loaded_y_test)"
   ]
  },
  {
   "cell_type": "markdown",
   "id": "dcbd472e-86f4-406e-b98e-d10a2c25c862",
   "metadata": {},
   "source": [
    "**<h1>WORD EMBEDDING</h1>**"
   ]
  },
  {
   "cell_type": "code",
   "execution_count": 12,
   "id": "37241bb5-d615-469e-ad91-3a32533da1c8",
   "metadata": {},
   "outputs": [],
   "source": [
    "def get_bert_embeddings_in_batches(encodings, batch_size=batch_size):\n",
    "    embeddings = []\n",
    "    num_samples = len(encodings['input_ids'])\n",
    "\n",
    "    for i in range(0, num_samples, batch_size):\n",
    "        batch_input_ids = encodings['input_ids'][i:i+batch_size]\n",
    "        batch_attention_mask = encodings['attention_mask'][i:i+batch_size]\n",
    "        batch_token_type_ids = encodings['token_type_ids'][i:i+batch_size]\n",
    "\n",
    "        batch_inputs = {\n",
    "            'input_ids': tf.convert_to_tensor(batch_input_ids),\n",
    "            'attention_mask': tf.convert_to_tensor(batch_attention_mask),\n",
    "            'token_type_ids': tf.convert_to_tensor(batch_token_type_ids)\n",
    "        }\n",
    "\n",
    "        outputs = model(batch_inputs)\n",
    "        batch_cls_embeddings = outputs.last_hidden_state[:, 0, :]  # CLS token embeddings\n",
    "\n",
    "        embeddings.append(batch_cls_embeddings)\n",
    "\n",
    "    return tf.concat(embeddings, axis=0)"
   ]
  },
  {
   "cell_type": "code",
   "execution_count": 18,
   "id": "1f94c027-b484-40fb-bfef-5a6910121b5f",
   "metadata": {},
   "outputs": [],
   "source": [
    "train_embeddings = get_bert_embeddings_in_batches(loaded_train_encodings, batch_size=batch_size)\n",
    "test_embeddings = get_bert_embeddings_in_batches(loaded_test_encodings, batch_size=batch_size)"
   ]
  },
  {
   "cell_type": "markdown",
   "id": "dbc9ad4c-d436-4708-80a8-9d01ebd4553c",
   "metadata": {},
   "source": [
    "## **SAVE EMBEDDINGS**"
   ]
  },
  {
   "cell_type": "code",
   "execution_count": null,
   "id": "34f53682-fc0a-4004-81a7-444a46a039b2",
   "metadata": {},
   "outputs": [],
   "source": [
    "tf.io.write_file('./fix/bert_train_embeddings_tf.bin', tf.io.serialize_tensor(train_embeddings))"
   ]
  },
  {
   "cell_type": "code",
   "execution_count": null,
   "id": "91a2c794-70b9-47a5-b64f-9fdf0373f47e",
   "metadata": {},
   "outputs": [],
   "source": [
    "tf.io.write_file('./fix/bert_test_embeddings_tf.bin', tf.io.serialize_tensor(test_embeddings))"
   ]
  },
  {
   "cell_type": "markdown",
   "id": "88b6a4c0-0870-47ff-a985-9a59efa9ca25",
   "metadata": {},
   "source": [
    "## **LOAD EMBEDDINGS**"
   ]
  },
  {
   "cell_type": "code",
   "execution_count": 13,
   "id": "080154d8-b81d-499b-8793-8176de4652a5",
   "metadata": {},
   "outputs": [],
   "source": [
    "train_embeddings_loaded = tf.io.parse_tensor(tf.io.read_file('./fix/bert_train_embeddings_tf.bin'), out_type=tf.float32)\n",
    "test_embeddings_loaded = tf.io.parse_tensor(tf.io.read_file('./fix/bert_test_embeddings_tf.bin'), out_type=tf.float32)"
   ]
  },
  {
   "cell_type": "code",
   "execution_count": 14,
   "id": "f669eb55-4d39-48fb-a58a-dc702e36fdd3",
   "metadata": {},
   "outputs": [],
   "source": [
    "train_embeddings_np = train_embeddings_loaded.numpy()\n",
    "test_embeddings_np = test_embeddings_loaded.numpy()"
   ]
  },
  {
   "cell_type": "markdown",
   "id": "c2e11a03-0992-4589-a5d9-0fdd601dc798",
   "metadata": {},
   "source": [
    "**<h1>RANDOM FOREST</h1>**"
   ]
  },
  {
   "cell_type": "code",
   "execution_count": 15,
   "id": "9abcbd9d-b340-4244-b598-510bd788de2f",
   "metadata": {},
   "outputs": [],
   "source": [
    "rf_classifier = RandomForestClassifier(n_estimators=100, random_state=42)"
   ]
  },
  {
   "cell_type": "code",
   "execution_count": 16,
   "id": "638e6ca6-29ff-4578-b14f-b91c3b9a80ff",
   "metadata": {},
   "outputs": [
    {
     "data": {
      "text/html": [
       "<style>#sk-container-id-1 {color: black;}#sk-container-id-1 pre{padding: 0;}#sk-container-id-1 div.sk-toggleable {background-color: white;}#sk-container-id-1 label.sk-toggleable__label {cursor: pointer;display: block;width: 100%;margin-bottom: 0;padding: 0.3em;box-sizing: border-box;text-align: center;}#sk-container-id-1 label.sk-toggleable__label-arrow:before {content: \"▸\";float: left;margin-right: 0.25em;color: #696969;}#sk-container-id-1 label.sk-toggleable__label-arrow:hover:before {color: black;}#sk-container-id-1 div.sk-estimator:hover label.sk-toggleable__label-arrow:before {color: black;}#sk-container-id-1 div.sk-toggleable__content {max-height: 0;max-width: 0;overflow: hidden;text-align: left;background-color: #f0f8ff;}#sk-container-id-1 div.sk-toggleable__content pre {margin: 0.2em;color: black;border-radius: 0.25em;background-color: #f0f8ff;}#sk-container-id-1 input.sk-toggleable__control:checked~div.sk-toggleable__content {max-height: 200px;max-width: 100%;overflow: auto;}#sk-container-id-1 input.sk-toggleable__control:checked~label.sk-toggleable__label-arrow:before {content: \"▾\";}#sk-container-id-1 div.sk-estimator input.sk-toggleable__control:checked~label.sk-toggleable__label {background-color: #d4ebff;}#sk-container-id-1 div.sk-label input.sk-toggleable__control:checked~label.sk-toggleable__label {background-color: #d4ebff;}#sk-container-id-1 input.sk-hidden--visually {border: 0;clip: rect(1px 1px 1px 1px);clip: rect(1px, 1px, 1px, 1px);height: 1px;margin: -1px;overflow: hidden;padding: 0;position: absolute;width: 1px;}#sk-container-id-1 div.sk-estimator {font-family: monospace;background-color: #f0f8ff;border: 1px dotted black;border-radius: 0.25em;box-sizing: border-box;margin-bottom: 0.5em;}#sk-container-id-1 div.sk-estimator:hover {background-color: #d4ebff;}#sk-container-id-1 div.sk-parallel-item::after {content: \"\";width: 100%;border-bottom: 1px solid gray;flex-grow: 1;}#sk-container-id-1 div.sk-label:hover label.sk-toggleable__label {background-color: #d4ebff;}#sk-container-id-1 div.sk-serial::before {content: \"\";position: absolute;border-left: 1px solid gray;box-sizing: border-box;top: 0;bottom: 0;left: 50%;z-index: 0;}#sk-container-id-1 div.sk-serial {display: flex;flex-direction: column;align-items: center;background-color: white;padding-right: 0.2em;padding-left: 0.2em;position: relative;}#sk-container-id-1 div.sk-item {position: relative;z-index: 1;}#sk-container-id-1 div.sk-parallel {display: flex;align-items: stretch;justify-content: center;background-color: white;position: relative;}#sk-container-id-1 div.sk-item::before, #sk-container-id-1 div.sk-parallel-item::before {content: \"\";position: absolute;border-left: 1px solid gray;box-sizing: border-box;top: 0;bottom: 0;left: 50%;z-index: -1;}#sk-container-id-1 div.sk-parallel-item {display: flex;flex-direction: column;z-index: 1;position: relative;background-color: white;}#sk-container-id-1 div.sk-parallel-item:first-child::after {align-self: flex-end;width: 50%;}#sk-container-id-1 div.sk-parallel-item:last-child::after {align-self: flex-start;width: 50%;}#sk-container-id-1 div.sk-parallel-item:only-child::after {width: 0;}#sk-container-id-1 div.sk-dashed-wrapped {border: 1px dashed gray;margin: 0 0.4em 0.5em 0.4em;box-sizing: border-box;padding-bottom: 0.4em;background-color: white;}#sk-container-id-1 div.sk-label label {font-family: monospace;font-weight: bold;display: inline-block;line-height: 1.2em;}#sk-container-id-1 div.sk-label-container {text-align: center;}#sk-container-id-1 div.sk-container {/* jupyter's `normalize.less` sets `[hidden] { display: none; }` but bootstrap.min.css set `[hidden] { display: none !important; }` so we also need the `!important` here to be able to override the default hidden behavior on the sphinx rendered scikit-learn.org. See: https://github.com/scikit-learn/scikit-learn/issues/21755 */display: inline-block !important;position: relative;}#sk-container-id-1 div.sk-text-repr-fallback {display: none;}</style><div id=\"sk-container-id-1\" class=\"sk-top-container\"><div class=\"sk-text-repr-fallback\"><pre>RandomForestClassifier(random_state=42)</pre><b>In a Jupyter environment, please rerun this cell to show the HTML representation or trust the notebook. <br />On GitHub, the HTML representation is unable to render, please try loading this page with nbviewer.org.</b></div><div class=\"sk-container\" hidden><div class=\"sk-item\"><div class=\"sk-estimator sk-toggleable\"><input class=\"sk-toggleable__control sk-hidden--visually\" id=\"sk-estimator-id-1\" type=\"checkbox\" checked><label for=\"sk-estimator-id-1\" class=\"sk-toggleable__label sk-toggleable__label-arrow\">RandomForestClassifier</label><div class=\"sk-toggleable__content\"><pre>RandomForestClassifier(random_state=42)</pre></div></div></div></div></div>"
      ],
      "text/plain": [
       "RandomForestClassifier(random_state=42)"
      ]
     },
     "execution_count": 16,
     "metadata": {},
     "output_type": "execute_result"
    }
   ],
   "source": [
    "rf_classifier.fit(train_embeddings_np, loaded_y_train)"
   ]
  },
  {
   "cell_type": "code",
   "execution_count": 17,
   "id": "f1cf45d7-aa0a-4efa-8158-46a05b59b117",
   "metadata": {},
   "outputs": [],
   "source": [
    "y_pred = rf_classifier.predict(test_embeddings_np)"
   ]
  },
  {
   "cell_type": "code",
   "execution_count": 18,
   "id": "a3078df3-d79b-4b8e-ad9b-349e0b2af9f9",
   "metadata": {},
   "outputs": [
    {
     "name": "stdout",
     "output_type": "stream",
     "text": [
      "Test Accuracy: 0.4089\n"
     ]
    }
   ],
   "source": [
    "accuracy = accuracy_score(loaded_y_test, y_pred)\n",
    "print(f\"Test Accuracy: {accuracy:.4f}\")"
   ]
  },
  {
   "cell_type": "markdown",
   "id": "ea89c6d7-3d10-4b17-92da-7382f619075f",
   "metadata": {},
   "source": [
    "**<h1>EVALUATION</h1>**"
   ]
  },
  {
   "cell_type": "code",
   "execution_count": 19,
   "id": "14a0fa80-0c4e-4df3-88ac-b1fd4834b752",
   "metadata": {},
   "outputs": [],
   "source": [
    "y_pred_labels = np.argmax(y_pred, axis=1)"
   ]
  },
  {
   "cell_type": "code",
   "execution_count": 20,
   "id": "fb5ecd0d-0cfc-4419-bea2-a8b47fec3280",
   "metadata": {},
   "outputs": [],
   "source": [
    "y_test_labels = loaded_y_test.argmax(axis=1)"
   ]
  },
  {
   "cell_type": "code",
   "execution_count": 21,
   "id": "bd07f925-67bc-4082-8185-4b6527749f11",
   "metadata": {},
   "outputs": [],
   "source": [
    "conf_matrix = confusion_matrix(y_test_labels, y_pred_labels)"
   ]
  },
  {
   "cell_type": "code",
   "execution_count": 22,
   "id": "a0c0b7cc-6dcd-4e04-b471-97ea06f93818",
   "metadata": {},
   "outputs": [],
   "source": [
    "class_labels = ['Positive', 'Negative', 'Neutral']"
   ]
  },
  {
   "cell_type": "code",
   "execution_count": 28,
   "id": "a616b026-cf16-4324-8dab-39e8a008a78a",
   "metadata": {},
   "outputs": [
    {
     "data": {
      "image/png": "[encoded data removed]",
      "text/plain": [
       "<Figure size 1000x700 with 2 Axes>"
      ]
     },
     "metadata": {},
     "output_type": "display_data"
    }
   ],
   "source": [
    "plt.figure(figsize=(10, 7))\n",
    "sns.heatmap(conf_matrix, annot=True, fmt='d', cmap='Blues', xticklabels=class_labels, yticklabels=class_labels)\n",
    "plt.xlabel('Predicted', fontsize=14, fontweight='bold')\n",
    "plt.ylabel('Actual', fontsize=14, fontweight='bold')\n",
    "plt.title('Confusion Matrix Batch 64', fontsize=16, fontweight='bold')\n",
    "plt.show()"
   ]
  },
  {
   "cell_type": "code",
   "execution_count": 24,
   "id": "2e5ea80b-0a38-4e9e-9919-098ea8cf0d5d",
   "metadata": {},
   "outputs": [
    {
     "name": "stdout",
     "output_type": "stream",
     "text": [
      "              precision    recall  f1-score   support\n",
      "\n",
      "    Positive       0.44      0.97      0.61     93734\n",
      "    Negative       0.85      0.46      0.60     93590\n",
      "     Neutral       0.86      0.23      0.37     93984\n",
      "\n",
      "    accuracy                           0.55    281308\n",
      "   macro avg       0.72      0.55      0.52    281308\n",
      "weighted avg       0.72      0.55      0.52    281308\n",
      "\n"
     ]
    }
   ],
   "source": [
    "print(classification_report(y_test_labels, y_pred_labels, target_names=['Positive', 'Negative', 'Neutral']))"
   ]
  },
  {
   "cell_type": "markdown",
   "id": "495eafe2-4bf5-4924-8da4-15d7b1c75d51",
   "metadata": {},
   "source": [
    "**<h1>SAVE MODEL</h1>**"
   ]
  },
  {
   "cell_type": "code",
   "execution_count": 27,
   "id": "4d0836ee-c830-4b27-b684-d8cf3e8a5018",
   "metadata": {},
   "outputs": [
    {
     "data": {
      "text/plain": [
       "['random_forest_alone.joblib']"
      ]
     },
     "execution_count": 27,
     "metadata": {},
     "output_type": "execute_result"
    }
   ],
   "source": [
    "dump(rf_classifier, 'random_forest_alone.joblib')"
   ]
  },
  {
   "cell_type": "markdown",
   "id": "b3b3cd31-e096-4ec2-93e8-7539bb7d648d",
   "metadata": {},
   "source": [
    "**<h1>LOAD MODEL</h1>**"
   ]
  },
  {
   "cell_type": "code",
   "execution_count": null,
   "id": "287a5a27-e8de-4cc8-b5f3-de2236dfcec2",
   "metadata": {},
   "outputs": [],
   "source": [
    "loaded_rf_model = load('random_forest_alone.joblib')"
   ]
  },
  {
   "cell_type": "code",
   "execution_count": null,
   "id": "b7cf076f-d502-4b1a-a13b-b1aebd3a2c41",
   "metadata": {},
   "outputs": [],
   "source": [
    "y_pred_loaded = loaded_rf_model.predict(test_embeddings_np)"
   ]
  }
 ],
 "metadata": {
  "kernelspec": {
   "display_name": "Python 3 (ipykernel)",
   "language": "python",
   "name": "python3"
  },
  "language_info": {
   "codemirror_mode": {
    "name": "ipython",
    "version": 3
   },
   "file_extension": ".py",
   "mimetype": "text/x-python",
   "name": "python",
   "nbconvert_exporter": "python",
   "pygments_lexer": "ipython3",
   "version": "3.10.14"
  }
 },
 "nbformat": 4,
 "nbformat_minor": 5
}
